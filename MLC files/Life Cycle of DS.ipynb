{
 "cells": [
  {
   "cell_type": "markdown",
   "id": "09a20081",
   "metadata": {},
   "source": [
    "Life Cycle of Data Science\n",
    "\n",
    "Step 1: Understanding the Business Requirement (this is done by the Project Manager/Product Owner)\n",
    "    - Define the Problem \n",
    "        - For Service Based Company: In this the project come from client to the company. So, we have to understand who is our customer and for whom we are buliding this whole Project. \n",
    "        - For Product Based Company: In this the project come from other departments(generally) and in this they have to understand there requirements. \n",
    "        \n",
    "Step 2: Data Acqiuision: It means that to acquire the data from the relevant sources through different Vendors (via: Web API's, Cloud, Log Files) or they have the relevant data within the company (via: Data Ware House/Data Lakes). \n",
    "\n",
    "It is the process of measuring real-world physical conditions and converting the results into digital numeric values. So, the company uses diiferent vandors to acquire this data according to the problem through Web API's, Cloud, Data Logs, Data Ware Houses, . Acquiring the data from different Source like: Vendors(web api, cloud), "
   ]
  },
  {
   "cell_type": "markdown",
   "id": "967282c7",
   "metadata": {},
   "source": [
    "**{doubt in Stake Holder, Product Owner, Product Manager, Business Owner and Business Manager}**"
   ]
  },
  {
   "cell_type": "markdown",
   "id": "566c7130",
   "metadata": {},
   "source": [
    "EDA:\n",
    "- Analyzing the data\n",
    "- Visualizing the data \n",
    "- Understanding the data\n",
    "- Descriptive stats\n",
    "\n",
    "Feature Engineering:\n",
    "- Handling missing values\n",
    "- Handling Categorical Features\n",
    "- Handling outliers\n",
    "- Handling Imbalanced Dataset\n",
    "- Feature tranformation(Standardscalar, normailization, etc)\n",
    "- Feature Extraction (PCA, tSNE)\n",
    "- Creating Derivate Features (adding 2 features to create single feature)\n",
    "\n",
    "Feature Selections:\n",
    "- Correaltions\n",
    "- VIF\n",
    "- Random Forest\n",
    "- CHI square \n",
    "- Annova\n",
    "\n",
    "Model Training + Hyperparameter Tuning:\n",
    "- Train with Every Model\n",
    "\n",
    "AIOPS:\n",
    "- CI/CD piplelines \n",
    "\n",
    "Deployment\n",
    "\n",
    "Model Retraining Approach\n",
    "\n",
    "\n",
    "1. Why we use MongoDB and not use MySQL?\n",
    "    - Beacuse MYSQL is tranactional database where as mongodb is non transactional database. So monogdb is very fast as compare to mysql."
   ]
  },
  {
   "cell_type": "markdown",
   "id": "c22e021d",
   "metadata": {},
   "source": [
    "# Day 2: AIOps/ MLOps\n",
    "\n",
    "Def: It's an approach/methodlogy to operationalize AI/ML systems.\n",
    "\n",
    "**Software Development Process:**\n",
    "- Waterfall methodology: \n",
    "    - requriement -> System Design -> Development -> Testing -> Deployment -> Maintaince\n",
    "    - Unidirectional \n",
    "    - It requires clear cut requriement\n",
    "    - Rigid/Non adapative \n",
    "    - It is not users centric. \n",
    "\n",
    "- Agile (Adaptive in nature):\n",
    "````\n",
    "       Feasiblity Check + Planning -> Analysis ->System Design -> Development -> Testing -> Deployment \n",
    "        ↑                                                                                      ↓\n",
    "        |________________Update from the client due to changes in bussiness req. _______________|\n",
    "````\n",
    "\n",
    "\n",
    "## Generic Steps in AI/ML systems:\n",
    "\n",
    "1. Data Extraction\n",
    "2. Data Analysis \n",
    "4. Data Preparation\n",
    "4. Model Training\n",
    "5. Model Evaluation\n",
    "6. Model Validation\n",
    "7. Model Serving\n",
    "8. Model Monitoring\n",
    "\n",
    "ref: https://cloud.google.com/architecture/mlops-continuous-delivery-and-automation-pipelines-in-machine-learning"
   ]
  },
  {
   "cell_type": "code",
   "execution_count": null,
   "id": "d4db2cfe",
   "metadata": {},
   "outputs": [],
   "source": []
  }
 ],
 "metadata": {
  "kernelspec": {
   "display_name": "Python 3 (ipykernel)",
   "language": "python",
   "name": "python3"
  },
  "language_info": {
   "codemirror_mode": {
    "name": "ipython",
    "version": 3
   },
   "file_extension": ".py",
   "mimetype": "text/x-python",
   "name": "python",
   "nbconvert_exporter": "python",
   "pygments_lexer": "ipython3",
   "version": "3.8.16"
  }
 },
 "nbformat": 4,
 "nbformat_minor": 5
}
