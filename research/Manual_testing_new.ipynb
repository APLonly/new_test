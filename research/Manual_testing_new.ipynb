{
 "cells": [
  {
   "cell_type": "code",
   "execution_count": 24,
   "id": "3bc0dab1",
   "metadata": {},
   "outputs": [
    {
     "data": {
      "text/plain": [
       "'Nq4Mh_jTubA'"
      ]
     },
     "execution_count": 24,
     "metadata": {},
     "output_type": "execute_result"
    }
   ],
   "source": [
    "url1 = \"https://youtu.be/Nq4Mh_jTubA\"\n",
    "url1.split(\"/\")[-1]"
   ]
  },
  {
   "cell_type": "code",
   "execution_count": 25,
   "id": "461b765c",
   "metadata": {},
   "outputs": [
    {
     "data": {
      "text/plain": [
       "'Nq4Mh_jTubA'"
      ]
     },
     "execution_count": 25,
     "metadata": {},
     "output_type": "execute_result"
    }
   ],
   "source": [
    "url1 = \"https://youtu.be/Nq4Mh_jTubA\"\n",
    "url1.split(\"=\")[0].split(\"/\")[-1]"
   ]
  },
  {
   "cell_type": "code",
   "execution_count": 26,
   "id": "81f147fa",
   "metadata": {},
   "outputs": [
    {
     "data": {
      "text/plain": [
       "['https://youtu.be/Nq4Mh_jTubA?t', '62']"
      ]
     },
     "execution_count": 26,
     "metadata": {},
     "output_type": "execute_result"
    }
   ],
   "source": [
    "url2 = \"https://youtu.be/Nq4Mh_jTubA?t=62\" #done\n",
    "url2.split(\"=\")"
   ]
  },
  {
   "cell_type": "code",
   "execution_count": 27,
   "id": "1e8c589d",
   "metadata": {},
   "outputs": [
    {
     "data": {
      "text/plain": [
       "'Nq4Mh_jTubA'"
      ]
     },
     "execution_count": 27,
     "metadata": {},
     "output_type": "execute_result"
    }
   ],
   "source": [
    "url2.split(\"=\")[0].split(\"/\")[-1][:-2]"
   ]
  },
  {
   "cell_type": "code",
   "execution_count": 28,
   "id": "ea82c93c",
   "metadata": {},
   "outputs": [
    {
     "data": {
      "text/plain": [
       "['https:', '', 'youtu.be', 'Nq4Mh_jTubA?t']"
      ]
     },
     "execution_count": 28,
     "metadata": {},
     "output_type": "execute_result"
    }
   ],
   "source": [
    "url2.split(\"=\")[0].split(\"/\")"
   ]
  },
  {
   "cell_type": "code",
   "execution_count": 29,
   "id": "10873318",
   "metadata": {},
   "outputs": [
    {
     "data": {
      "text/plain": [
       "['Nq4Mh_jTubA', 't']"
      ]
     },
     "execution_count": 29,
     "metadata": {},
     "output_type": "execute_result"
    }
   ],
   "source": [
    "url2.split(\"=\")[0].split(\"/\")[-1].split(\"?\")"
   ]
  },
  {
   "cell_type": "code",
   "execution_count": 30,
   "id": "0b7e90a1",
   "metadata": {},
   "outputs": [
    {
     "data": {
      "text/plain": [
       "'Nq4Mh_jTubA'"
      ]
     },
     "execution_count": 30,
     "metadata": {},
     "output_type": "execute_result"
    }
   ],
   "source": [
    "url2.split(\"=\")[0].split(\"/\")[-1].split(\"?\")[0]"
   ]
  },
  {
   "cell_type": "code",
   "execution_count": 31,
   "id": "946e9d1a",
   "metadata": {},
   "outputs": [],
   "source": [
    "url3 = \"https://www.youtube.com/watch?v=Nq4Mh_jTubA&ab_channel=DreamyVibez\" #edge #done\n",
    "a = url3.split(\"=\")"
   ]
  },
  {
   "cell_type": "code",
   "execution_count": 32,
   "id": "4557ea46",
   "metadata": {},
   "outputs": [
    {
     "data": {
      "text/plain": [
       "['https://www.youtube.com/watch?v', 'Nq4Mh_jTubA&ab_channel', 'DreamyVibez']"
      ]
     },
     "execution_count": 32,
     "metadata": {},
     "output_type": "execute_result"
    }
   ],
   "source": [
    "a"
   ]
  },
  {
   "cell_type": "code",
   "execution_count": 33,
   "id": "6dd842cb",
   "metadata": {},
   "outputs": [
    {
     "data": {
      "text/plain": [
       "'Nq4Mh_jTubA'"
      ]
     },
     "execution_count": 33,
     "metadata": {},
     "output_type": "execute_result"
    }
   ],
   "source": [
    "a[-2].split(\"&\")[0]"
   ]
  },
  {
   "cell_type": "code",
   "execution_count": 34,
   "id": "e386b0bc",
   "metadata": {},
   "outputs": [
    {
     "data": {
      "text/plain": [
       "'Nq4Mh_jTubA'"
      ]
     },
     "execution_count": 34,
     "metadata": {},
     "output_type": "execute_result"
    }
   ],
   "source": [
    "url4 = \"https://www.youtube.com/watch?v=Nq4Mh_jTubA\" #google chrome #done\n",
    "url4.split(\"=\")[-1]"
   ]
  },
  {
   "cell_type": "code",
   "execution_count": 43,
   "id": "f33a8e16",
   "metadata": {},
   "outputs": [
    {
     "data": {
      "text/plain": [
       "'Nq4Mh_jTubA'"
      ]
     },
     "execution_count": 43,
     "metadata": {},
     "output_type": "execute_result"
    }
   ],
   "source": [
    "url5 = \"https://www.youtube.com/watch?v=Nq4Mh_jTubA&t=120s\" #done\n",
    "url5.split(\"=\")[-2][:-2]"
   ]
  },
  {
   "cell_type": "code",
   "execution_count": 36,
   "id": "71b973df",
   "metadata": {},
   "outputs": [
    {
     "data": {
      "text/plain": [
       "'120'"
      ]
     },
     "execution_count": 36,
     "metadata": {},
     "output_type": "execute_result"
    }
   ],
   "source": [
    "url5.split(\"=\")[-1][:-1]"
   ]
  },
  {
   "cell_type": "code",
   "execution_count": 37,
   "id": "64a5208c",
   "metadata": {},
   "outputs": [],
   "source": [
    "from Python_Package_Project import render_youtube"
   ]
  },
  {
   "cell_type": "code",
   "execution_count": 38,
   "id": "87be64a2",
   "metadata": {},
   "outputs": [
    {
     "name": "stdout",
     "output_type": "stream",
     "text": [
      "[2023-07-12 16:57:45,546: INFO: youtube]: Video starts at: 0\n",
      "[2023-07-12 16:57:45,547: INFO: youtube]: embed URL: https://www.youtube.com/embed/Nq4Mh_jTubA?start=0\n"
     ]
    },
    {
     "data": {
      "text/html": [
       "<iframe width=\"800\" height=\"600\" src=\"https://www.youtube.com/embed/Nq4Mh_jTubA?start=0\" title=\"YouTube video player\" frameborder=\"0\" allow=\"accelerometer; autoplay; clipboard-write; encrypted-media; gyroscope; picture-in-picture; web-share\" allowfullscreen></iframe>"
      ],
      "text/plain": [
       "<IPython.core.display.HTML object>"
      ]
     },
     "metadata": {},
     "output_type": "display_data"
    },
    {
     "data": {
      "text/plain": [
       "'sucess'"
      ]
     },
     "execution_count": 38,
     "metadata": {},
     "output_type": "execute_result"
    }
   ],
   "source": [
    "render_youtube(url1)"
   ]
  },
  {
   "cell_type": "code",
   "execution_count": 39,
   "id": "567c66f9",
   "metadata": {},
   "outputs": [
    {
     "name": "stdout",
     "output_type": "stream",
     "text": [
      "[2023-07-12 16:57:50,568: INFO: youtube]: Video starts at: 62\n",
      "[2023-07-12 16:57:50,569: INFO: youtube]: embed URL: https://www.youtube.com/embed/Nq4Mh_jTubA?start=62\n"
     ]
    },
    {
     "data": {
      "text/html": [
       "<iframe width=\"800\" height=\"600\" src=\"https://www.youtube.com/embed/Nq4Mh_jTubA?start=62\" title=\"YouTube video player\" frameborder=\"0\" allow=\"accelerometer; autoplay; clipboard-write; encrypted-media; gyroscope; picture-in-picture; web-share\" allowfullscreen></iframe>"
      ],
      "text/plain": [
       "<IPython.core.display.HTML object>"
      ]
     },
     "metadata": {},
     "output_type": "display_data"
    },
    {
     "data": {
      "text/plain": [
       "'sucess'"
      ]
     },
     "execution_count": 39,
     "metadata": {},
     "output_type": "execute_result"
    }
   ],
   "source": [
    "render_youtube(url2)"
   ]
  },
  {
   "cell_type": "code",
   "execution_count": 40,
   "id": "1e23a625",
   "metadata": {},
   "outputs": [
    {
     "name": "stdout",
     "output_type": "stream",
     "text": [
      "[2023-07-12 16:57:57,837: INFO: youtube]: Video starts at: 0\n",
      "[2023-07-12 16:57:57,839: INFO: youtube]: embed URL: https://www.youtube.com/embed/Nq4Mh_jTubA?start=0\n"
     ]
    },
    {
     "data": {
      "text/html": [
       "<iframe width=\"800\" height=\"600\" src=\"https://www.youtube.com/embed/Nq4Mh_jTubA?start=0\" title=\"YouTube video player\" frameborder=\"0\" allow=\"accelerometer; autoplay; clipboard-write; encrypted-media; gyroscope; picture-in-picture; web-share\" allowfullscreen></iframe>"
      ],
      "text/plain": [
       "<IPython.core.display.HTML object>"
      ]
     },
     "metadata": {},
     "output_type": "display_data"
    },
    {
     "data": {
      "text/plain": [
       "'sucess'"
      ]
     },
     "execution_count": 40,
     "metadata": {},
     "output_type": "execute_result"
    }
   ],
   "source": [
    "render_youtube(url3)"
   ]
  },
  {
   "cell_type": "code",
   "execution_count": 41,
   "id": "d7d37bb4",
   "metadata": {},
   "outputs": [
    {
     "name": "stdout",
     "output_type": "stream",
     "text": [
      "[2023-07-12 16:58:03,096: INFO: youtube]: Video starts at: 0\n",
      "[2023-07-12 16:58:03,097: INFO: youtube]: embed URL: https://www.youtube.com/embed/Nq4Mh_jTubA?start=0\n"
     ]
    },
    {
     "data": {
      "text/html": [
       "<iframe width=\"800\" height=\"600\" src=\"https://www.youtube.com/embed/Nq4Mh_jTubA?start=0\" title=\"YouTube video player\" frameborder=\"0\" allow=\"accelerometer; autoplay; clipboard-write; encrypted-media; gyroscope; picture-in-picture; web-share\" allowfullscreen></iframe>"
      ],
      "text/plain": [
       "<IPython.core.display.HTML object>"
      ]
     },
     "metadata": {},
     "output_type": "display_data"
    },
    {
     "data": {
      "text/plain": [
       "'sucess'"
      ]
     },
     "execution_count": 41,
     "metadata": {},
     "output_type": "execute_result"
    }
   ],
   "source": [
    "render_youtube(url4)"
   ]
  },
  {
   "cell_type": "code",
   "execution_count": 44,
   "id": "9a30cbf1",
   "metadata": {},
   "outputs": [
    {
     "name": "stdout",
     "output_type": "stream",
     "text": [
      "[2023-07-12 16:58:50,651: INFO: youtube]: Video starts at: 120\n",
      "[2023-07-12 16:58:50,653: INFO: youtube]: embed URL: https://www.youtube.com/embed/Nq4Mh_jTubA?start=120\n"
     ]
    },
    {
     "data": {
      "text/html": [
       "<iframe width=\"800\" height=\"600\" src=\"https://www.youtube.com/embed/Nq4Mh_jTubA?start=120\" title=\"YouTube video player\" frameborder=\"0\" allow=\"accelerometer; autoplay; clipboard-write; encrypted-media; gyroscope; picture-in-picture; web-share\" allowfullscreen></iframe>"
      ],
      "text/plain": [
       "<IPython.core.display.HTML object>"
      ]
     },
     "metadata": {},
     "output_type": "display_data"
    },
    {
     "data": {
      "text/plain": [
       "'sucess'"
      ]
     },
     "execution_count": 44,
     "metadata": {},
     "output_type": "execute_result"
    }
   ],
   "source": [
    "render_youtube(url5)"
   ]
  },
  {
   "cell_type": "code",
   "execution_count": null,
   "id": "51b88d64",
   "metadata": {},
   "outputs": [],
   "source": []
  }
 ],
 "metadata": {
  "kernelspec": {
   "display_name": "Python 3 (ipykernel)",
   "language": "python",
   "name": "python3"
  },
  "language_info": {
   "codemirror_mode": {
    "name": "ipython",
    "version": 3
   },
   "file_extension": ".py",
   "mimetype": "text/x-python",
   "name": "python",
   "nbconvert_exporter": "python",
   "pygments_lexer": "ipython3",
   "version": "3.8.17"
  }
 },
 "nbformat": 4,
 "nbformat_minor": 5
}
