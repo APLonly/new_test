{
 "cells": [
  {
   "cell_type": "code",
   "execution_count": 1,
   "id": "3bc0dab1",
   "metadata": {},
   "outputs": [
    {
     "data": {
      "text/plain": [
       "'Nq4Mh_jTubA'"
      ]
     },
     "execution_count": 1,
     "metadata": {},
     "output_type": "execute_result"
    }
   ],
   "source": [
    "url1 = \"https://youtu.be/Nq4Mh_jTubA\"\n",
    "url1.split(\"/\")[-1]"
   ]
  },
  {
   "cell_type": "code",
   "execution_count": 2,
   "id": "461b765c",
   "metadata": {},
   "outputs": [
    {
     "data": {
      "text/plain": [
       "'Nq4Mh_jTubA'"
      ]
     },
     "execution_count": 2,
     "metadata": {},
     "output_type": "execute_result"
    }
   ],
   "source": [
    "url1 = \"https://youtu.be/Nq4Mh_jTubA\"\n",
    "url1.split(\"=\")[0].split(\"/\")[-1]"
   ]
  },
  {
   "cell_type": "code",
   "execution_count": 23,
   "id": "81f147fa",
   "metadata": {},
   "outputs": [
    {
     "data": {
      "text/plain": [
       "'62'"
      ]
     },
     "execution_count": 23,
     "metadata": {},
     "output_type": "execute_result"
    }
   ],
   "source": [
    "url2 = \"https://youtu.be/Nq4Mh_jTubA?t=62s\" #done\n",
    "url2.split(\"=\")[1][:-1]"
   ]
  },
  {
   "cell_type": "code",
   "execution_count": 4,
   "id": "1e8c589d",
   "metadata": {},
   "outputs": [
    {
     "data": {
      "text/plain": [
       "'Nq4Mh_jTubA'"
      ]
     },
     "execution_count": 4,
     "metadata": {},
     "output_type": "execute_result"
    }
   ],
   "source": [
    "url2.split(\"=\")[0].split(\"/\")[-1][:-2]"
   ]
  },
  {
   "cell_type": "code",
   "execution_count": 5,
   "id": "ea82c93c",
   "metadata": {},
   "outputs": [
    {
     "data": {
      "text/plain": [
       "['https:', '', 'youtu.be', 'Nq4Mh_jTubA?t']"
      ]
     },
     "execution_count": 5,
     "metadata": {},
     "output_type": "execute_result"
    }
   ],
   "source": [
    "url2.split(\"=\")[0].split(\"/\")"
   ]
  },
  {
   "cell_type": "code",
   "execution_count": 6,
   "id": "10873318",
   "metadata": {},
   "outputs": [
    {
     "data": {
      "text/plain": [
       "['Nq4Mh_jTubA', 't']"
      ]
     },
     "execution_count": 6,
     "metadata": {},
     "output_type": "execute_result"
    }
   ],
   "source": [
    "url2.split(\"=\")[0].split(\"/\")[-1].split(\"?\")"
   ]
  },
  {
   "cell_type": "code",
   "execution_count": 7,
   "id": "0b7e90a1",
   "metadata": {},
   "outputs": [
    {
     "data": {
      "text/plain": [
       "'Nq4Mh_jTubA'"
      ]
     },
     "execution_count": 7,
     "metadata": {},
     "output_type": "execute_result"
    }
   ],
   "source": [
    "url2.split(\"=\")[0].split(\"/\")[-1].split(\"?\")[0]"
   ]
  },
  {
   "cell_type": "code",
   "execution_count": 8,
   "id": "946e9d1a",
   "metadata": {},
   "outputs": [],
   "source": [
    "url3 = \"https://www.youtube.com/watch?v=Nq4Mh_jTubA&ab_channel=DreamyVibez\" #edge #done\n",
    "a = url3.split(\"=\")"
   ]
  },
  {
   "cell_type": "code",
   "execution_count": 9,
   "id": "4557ea46",
   "metadata": {},
   "outputs": [
    {
     "data": {
      "text/plain": [
       "['https://www.youtube.com/watch?v', 'Nq4Mh_jTubA&ab_channel', 'DreamyVibez']"
      ]
     },
     "execution_count": 9,
     "metadata": {},
     "output_type": "execute_result"
    }
   ],
   "source": [
    "a"
   ]
  },
  {
   "cell_type": "code",
   "execution_count": 10,
   "id": "6dd842cb",
   "metadata": {},
   "outputs": [
    {
     "data": {
      "text/plain": [
       "'Nq4Mh_jTubA'"
      ]
     },
     "execution_count": 10,
     "metadata": {},
     "output_type": "execute_result"
    }
   ],
   "source": [
    "a[-2].split(\"&\")[0]"
   ]
  },
  {
   "cell_type": "code",
   "execution_count": 11,
   "id": "e386b0bc",
   "metadata": {},
   "outputs": [
    {
     "data": {
      "text/plain": [
       "'Nq4Mh_jTubA'"
      ]
     },
     "execution_count": 11,
     "metadata": {},
     "output_type": "execute_result"
    }
   ],
   "source": [
    "url4 = \"https://www.youtube.com/watch?v=Nq4Mh_jTubA\" #google chrome #done\n",
    "url4.split(\"=\")[-1]"
   ]
  },
  {
   "cell_type": "code",
   "execution_count": 12,
   "id": "f33a8e16",
   "metadata": {},
   "outputs": [
    {
     "data": {
      "text/plain": [
       "'Nq4Mh_jTubA'"
      ]
     },
     "execution_count": 12,
     "metadata": {},
     "output_type": "execute_result"
    }
   ],
   "source": [
    "url5 = \"https://www.youtube.com/watch?v=Nq4Mh_jTubA&t=120s\" #done\n",
    "url5.split(\"=\")[-2][:-2]"
   ]
  },
  {
   "cell_type": "code",
   "execution_count": 13,
   "id": "71b973df",
   "metadata": {},
   "outputs": [
    {
     "data": {
      "text/plain": [
       "'120'"
      ]
     },
     "execution_count": 13,
     "metadata": {},
     "output_type": "execute_result"
    }
   ],
   "source": [
    "url5.split(\"=\")[-1][:-1]"
   ]
  },
  {
   "cell_type": "code",
   "execution_count": 20,
   "id": "64a5208c",
   "metadata": {},
   "outputs": [],
   "source": [
    "from Python_Package_Project import render_youtube"
   ]
  },
  {
   "cell_type": "code",
   "execution_count": 15,
   "id": "87be64a2",
   "metadata": {},
   "outputs": [
    {
     "name": "stdout",
     "output_type": "stream",
     "text": [
      "[2023-07-13 12:47:50,009: INFO: youtube]: Video starts at: 0\n",
      "[2023-07-13 12:47:50,011: INFO: youtube]: embed URL: https://www.youtube.com/embed/Nq4Mh_jTubA?start=0\n"
     ]
    },
    {
     "name": "stderr",
     "output_type": "stream",
     "text": [
      "c:\\Users\\abhishek189609\\Desktop\\local_ml_project\\new_test\\env\\lib\\site-packages\\IPython\\core\\display.py:431: UserWarning: Consider using IPython.display.IFrame instead\n",
      "  warnings.warn(\"Consider using IPython.display.IFrame instead\")\n"
     ]
    },
    {
     "data": {
      "text/html": [
       "<iframe width=\"800\" height=\"600\" src=\"https://www.youtube.com/embed/Nq4Mh_jTubA?start=0\" title=\"YouTube video player\" frameborder=\"0\" allow=\"accelerometer; autoplay; clipboard-write; encrypted-media; gyroscope; picture-in-picture; web-share\" allowfullscreen></iframe>"
      ],
      "text/plain": [
       "<IPython.core.display.HTML object>"
      ]
     },
     "metadata": {},
     "output_type": "display_data"
    },
    {
     "data": {
      "text/plain": [
       "'sucess'"
      ]
     },
     "execution_count": 15,
     "metadata": {},
     "output_type": "execute_result"
    }
   ],
   "source": [
    "render_youtube(url1)"
   ]
  },
  {
   "cell_type": "code",
   "execution_count": 21,
   "id": "567c66f9",
   "metadata": {},
   "outputs": [
    {
     "name": "stdout",
     "output_type": "stream",
     "text": [
      "[2023-07-13 15:00:41,867: INFO: youtube]: Video starts at: 62\n",
      "[2023-07-13 15:00:41,875: INFO: youtube]: embed URL: https://www.youtube.com/embed/Nq4Mh_jTubA?start=62\n"
     ]
    },
    {
     "data": {
      "text/html": [
       "<iframe width=\"800\" height=\"600\" src=\"https://www.youtube.com/embed/Nq4Mh_jTubA?start=62\" title=\"YouTube video player\" frameborder=\"0\" allow=\"accelerometer; autoplay; clipboard-write; encrypted-media; gyroscope; picture-in-picture; web-share\" allowfullscreen></iframe>"
      ],
      "text/plain": [
       "<IPython.core.display.HTML object>"
      ]
     },
     "metadata": {},
     "output_type": "display_data"
    },
    {
     "data": {
      "text/plain": [
       "'sucess'"
      ]
     },
     "execution_count": 21,
     "metadata": {},
     "output_type": "execute_result"
    }
   ],
   "source": [
    "render_youtube(url2)"
   ]
  },
  {
   "cell_type": "code",
   "execution_count": 17,
   "id": "1e23a625",
   "metadata": {},
   "outputs": [
    {
     "name": "stdout",
     "output_type": "stream",
     "text": [
      "[2023-07-13 12:47:53,155: INFO: youtube]: Video starts at: 0\n",
      "[2023-07-13 12:47:53,156: INFO: youtube]: embed URL: https://www.youtube.com/embed/Nq4Mh_jTubA?start=0\n"
     ]
    },
    {
     "data": {
      "text/html": [
       "<iframe width=\"800\" height=\"600\" src=\"https://www.youtube.com/embed/Nq4Mh_jTubA?start=0\" title=\"YouTube video player\" frameborder=\"0\" allow=\"accelerometer; autoplay; clipboard-write; encrypted-media; gyroscope; picture-in-picture; web-share\" allowfullscreen></iframe>"
      ],
      "text/plain": [
       "<IPython.core.display.HTML object>"
      ]
     },
     "metadata": {},
     "output_type": "display_data"
    },
    {
     "data": {
      "text/plain": [
       "'sucess'"
      ]
     },
     "execution_count": 17,
     "metadata": {},
     "output_type": "execute_result"
    }
   ],
   "source": [
    "render_youtube(url3)"
   ]
  },
  {
   "cell_type": "code",
   "execution_count": 18,
   "id": "d7d37bb4",
   "metadata": {},
   "outputs": [
    {
     "name": "stdout",
     "output_type": "stream",
     "text": [
      "[2023-07-13 12:47:54,351: INFO: youtube]: Video starts at: 0\n",
      "[2023-07-13 12:47:54,353: INFO: youtube]: embed URL: https://www.youtube.com/embed/Nq4Mh_jTubA?start=0\n"
     ]
    },
    {
     "data": {
      "text/html": [
       "<iframe width=\"800\" height=\"600\" src=\"https://www.youtube.com/embed/Nq4Mh_jTubA?start=0\" title=\"YouTube video player\" frameborder=\"0\" allow=\"accelerometer; autoplay; clipboard-write; encrypted-media; gyroscope; picture-in-picture; web-share\" allowfullscreen></iframe>"
      ],
      "text/plain": [
       "<IPython.core.display.HTML object>"
      ]
     },
     "metadata": {},
     "output_type": "display_data"
    },
    {
     "data": {
      "text/plain": [
       "'sucess'"
      ]
     },
     "execution_count": 18,
     "metadata": {},
     "output_type": "execute_result"
    }
   ],
   "source": [
    "render_youtube(url4)"
   ]
  },
  {
   "cell_type": "code",
   "execution_count": 19,
   "id": "9a30cbf1",
   "metadata": {},
   "outputs": [
    {
     "name": "stdout",
     "output_type": "stream",
     "text": [
      "[2023-07-13 12:47:55,732: INFO: youtube]: Video starts at: 120\n",
      "[2023-07-13 12:47:55,735: INFO: youtube]: embed URL: https://www.youtube.com/embed/Nq4Mh_jTubA?start=120\n"
     ]
    },
    {
     "data": {
      "text/html": [
       "<iframe width=\"800\" height=\"600\" src=\"https://www.youtube.com/embed/Nq4Mh_jTubA?start=120\" title=\"YouTube video player\" frameborder=\"0\" allow=\"accelerometer; autoplay; clipboard-write; encrypted-media; gyroscope; picture-in-picture; web-share\" allowfullscreen></iframe>"
      ],
      "text/plain": [
       "<IPython.core.display.HTML object>"
      ]
     },
     "metadata": {},
     "output_type": "display_data"
    },
    {
     "data": {
      "text/plain": [
       "'sucess'"
      ]
     },
     "execution_count": 19,
     "metadata": {},
     "output_type": "execute_result"
    }
   ],
   "source": [
    "render_youtube(url5)"
   ]
  },
  {
   "cell_type": "code",
   "execution_count": null,
   "id": "51b88d64",
   "metadata": {},
   "outputs": [],
   "source": []
  }
 ],
 "metadata": {
  "kernelspec": {
   "display_name": "Python 3 (ipykernel)",
   "language": "python",
   "name": "python3"
  },
  "language_info": {
   "codemirror_mode": {
    "name": "ipython",
    "version": 3
   },
   "file_extension": ".py",
   "mimetype": "text/x-python",
   "name": "python",
   "nbconvert_exporter": "python",
   "pygments_lexer": "ipython3",
   "version": "3.8.17"
  }
 },
 "nbformat": 4,
 "nbformat_minor": 5
}
