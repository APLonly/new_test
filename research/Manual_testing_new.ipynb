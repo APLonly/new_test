{
 "cells": [
  {
   "cell_type": "code",
   "execution_count": 4,
   "id": "3bc0dab1",
   "metadata": {},
   "outputs": [
    {
     "data": {
      "text/plain": [
       "['https:', '', 'youtu.be', 'Nq4Mh_jTubA']"
      ]
     },
     "execution_count": 4,
     "metadata": {},
     "output_type": "execute_result"
    }
   ],
   "source": [
    "url1 = \"https://youtu.be/Nq4Mh_jTubA\"\n",
    "url1.split(\"/\") "
   ]
  },
  {
   "cell_type": "code",
   "execution_count": 5,
   "id": "81f147fa",
   "metadata": {},
   "outputs": [
    {
     "data": {
      "text/plain": [
       "['https://youtu.be/Nq4Mh_jTubA?t', '62']"
      ]
     },
     "execution_count": 5,
     "metadata": {},
     "output_type": "execute_result"
    }
   ],
   "source": [
    "url2 = \"https://youtu.be/Nq4Mh_jTubA?t=62\"\n",
    "url2.split(\"=\")"
   ]
  },
  {
   "cell_type": "code",
   "execution_count": 6,
   "id": "ea82c93c",
   "metadata": {},
   "outputs": [
    {
     "data": {
      "text/plain": [
       "['https:', '', 'youtu.be', 'Nq4Mh_jTubA?t']"
      ]
     },
     "execution_count": 6,
     "metadata": {},
     "output_type": "execute_result"
    }
   ],
   "source": [
    "url2.split(\"=\")[0].split(\"/\")"
   ]
  },
  {
   "cell_type": "code",
   "execution_count": 8,
   "id": "10873318",
   "metadata": {},
   "outputs": [
    {
     "data": {
      "text/plain": [
       "['Nq4Mh_jTubA', 't']"
      ]
     },
     "execution_count": 8,
     "metadata": {},
     "output_type": "execute_result"
    }
   ],
   "source": [
    "url2.split(\"=\")[0].split(\"/\")[-1].split(\"?\")"
   ]
  },
  {
   "cell_type": "code",
   "execution_count": 10,
   "id": "0b7e90a1",
   "metadata": {},
   "outputs": [
    {
     "data": {
      "text/plain": [
       "'Nq4Mh_jTubA'"
      ]
     },
     "execution_count": 10,
     "metadata": {},
     "output_type": "execute_result"
    }
   ],
   "source": [
    "url2.split(\"=\")[0].split(\"/\")[-1].split(\"?\")[0]"
   ]
  },
  {
   "cell_type": "code",
   "execution_count": 11,
   "id": "946e9d1a",
   "metadata": {},
   "outputs": [
    {
     "data": {
      "text/plain": [
       "['https://www.youtube.com/watch?v', 'Nq4Mh_jTubA&ab_channel', 'DreamyVibez']"
      ]
     },
     "execution_count": 11,
     "metadata": {},
     "output_type": "execute_result"
    }
   ],
   "source": [
    "url3 = \"https://www.youtube.com/watch?v=Nq4Mh_jTubA&ab_channel=DreamyVibez\"\n",
    "url3.split(\"=\")"
   ]
  },
  {
   "cell_type": "code",
   "execution_count": 15,
   "id": "7b4e821d",
   "metadata": {},
   "outputs": [
    {
     "data": {
      "text/plain": [
       "'Nq4Mh_jTubA'"
      ]
     },
     "execution_count": 15,
     "metadata": {},
     "output_type": "execute_result"
    }
   ],
   "source": [
    "url3.split(\"=\")[1].split(\"&\")[0]"
   ]
  },
  {
   "cell_type": "code",
   "execution_count": null,
   "id": "e386b0bc",
   "metadata": {},
   "outputs": [],
   "source": []
  },
  {
   "cell_type": "code",
   "execution_count": null,
   "id": "f33a8e16",
   "metadata": {},
   "outputs": [],
   "source": []
  },
  {
   "cell_type": "code",
   "execution_count": null,
   "id": "71b973df",
   "metadata": {},
   "outputs": [],
   "source": []
  },
  {
   "cell_type": "code",
   "execution_count": null,
   "id": "eb36886a",
   "metadata": {},
   "outputs": [],
   "source": []
  }
 ],
 "metadata": {
  "kernelspec": {
   "display_name": "Python 3 (ipykernel)",
   "language": "python",
   "name": "python3"
  },
  "language_info": {
   "codemirror_mode": {
    "name": "ipython",
    "version": 3
   },
   "file_extension": ".py",
   "mimetype": "text/x-python",
   "name": "python",
   "nbconvert_exporter": "python",
   "pygments_lexer": "ipython3",
   "version": "3.8.17"
  }
 },
 "nbformat": 4,
 "nbformat_minor": 5
}
